{
  "nbformat": 4,
  "nbformat_minor": 0,
  "metadata": {
    "colab": {
      "provenance": [],
      "authorship_tag": "ABX9TyPU3VzY69b4lT6Sr7U4tHbD",
      "include_colab_link": true
    },
    "kernelspec": {
      "name": "python3",
      "display_name": "Python 3"
    },
    "language_info": {
      "name": "python"
    }
  },
  "cells": [
    {
      "cell_type": "markdown",
      "metadata": {
        "id": "view-in-github",
        "colab_type": "text"
      },
      "source": [
        "<a href=\"https://colab.research.google.com/github/GuilleLD/Tarea-ibero/blob/main/Tarea_6.ipynb\" target=\"_parent\"><img src=\"https://colab.research.google.com/assets/colab-badge.svg\" alt=\"Open In Colab\"/></a>"
      ]
    },
    {
      "cell_type": "code",
      "execution_count": 1,
      "metadata": {
        "colab": {
          "base_uri": "https://localhost:8080/",
          "height": 0
        },
        "id": "BL5FNwWc9lxq",
        "outputId": "78d7fa83-7201-4d1d-9cf7-074d22ee4161"
      },
      "outputs": [
        {
          "output_type": "stream",
          "name": "stdout",
          "text": [
            "Requirement already satisfied: pandas in /usr/local/lib/python3.10/dist-packages (1.5.3)\n",
            "Requirement already satisfied: python-dateutil>=2.8.1 in /usr/local/lib/python3.10/dist-packages (from pandas) (2.8.2)\n",
            "Requirement already satisfied: pytz>=2020.1 in /usr/local/lib/python3.10/dist-packages (from pandas) (2023.3)\n",
            "Requirement already satisfied: numpy>=1.21.0 in /usr/local/lib/python3.10/dist-packages (from pandas) (1.23.5)\n",
            "Requirement already satisfied: six>=1.5 in /usr/local/lib/python3.10/dist-packages (from python-dateutil>=2.8.1->pandas) (1.16.0)\n"
          ]
        }
      ],
      "source": [
        "!pip install pandas"
      ]
    },
    {
      "cell_type": "markdown",
      "source": [
        "Se cargo los datos desde github, se almaceno en un dataframe llamado \"ventas\" y se muestra las 5 primeras filas de datos"
      ],
      "metadata": {
        "id": "z2cjGEUmQd_L"
      }
    },
    {
      "cell_type": "code",
      "source": [
        "import pandas as pd\n",
        "\n",
        "ventas = pd.read_csv(\"https://raw.githubusercontent.com/GuilleLD/Tarea-ibero/main/datos_ventas.csv\")\n",
        "print(ventas.head())"
      ],
      "metadata": {
        "colab": {
          "base_uri": "https://localhost:8080/",
          "height": 0
        },
        "id": "wWb6zC65-v6U",
        "outputId": "e1fd42ef-e1e7-471e-c9ca-838a9371d9b2"
      },
      "execution_count": 14,
      "outputs": [
        {
          "output_type": "stream",
          "name": "stdout",
          "text": [
            "     Producto    Categoria       Fecha  Cantidad  Precio\n",
            "0  Producto B  Categoria 1  2023-02-05        16   37.00\n",
            "1  Producto A  Categoria 2  2022-08-24         5   30.24\n",
            "2  Producto A  Categoria 2  2023-05-07         3   23.29\n",
            "3  Producto C  Categoria 1  2023-01-07        13   28.30\n",
            "4  Producto A  Categoria 1  2023-05-31        10   34.89\n"
          ]
        }
      ]
    },
    {
      "cell_type": "markdown",
      "source": [
        "Total ventas por categoria"
      ],
      "metadata": {
        "id": "rSPpFYaiarER"
      }
    },
    {
      "cell_type": "code",
      "source": [
        "total_ventas_categoria = ventas.groupby(\"Categoria\")[\"Cantidad\"].sum()\n",
        "print(total_ventas_categoria)"
      ],
      "metadata": {
        "colab": {
          "base_uri": "https://localhost:8080/",
          "height": 0
        },
        "id": "5A3rMyfxJMHN",
        "outputId": "6fb8f1d3-fab3-467f-aaed-3f74ebf96091"
      },
      "execution_count": 19,
      "outputs": [
        {
          "output_type": "stream",
          "name": "stdout",
          "text": [
            "Categoria\n",
            "Categoria 1    462\n",
            "Categoria 2    495\n",
            "Name: Cantidad, dtype: int64\n"
          ]
        }
      ]
    },
    {
      "cell_type": "markdown",
      "source": [
        "Cantidad promedio de productos vendidos por transacción"
      ],
      "metadata": {
        "id": "tEunBN-3a6ZT"
      }
    },
    {
      "cell_type": "code",
      "source": [
        "prom_cantidad = ventas[\"Cantidad\"].mean()\n",
        "print(\"Cantidad promedio de productos vendidos: \", prom_cantidad)"
      ],
      "metadata": {
        "colab": {
          "base_uri": "https://localhost:8080/",
          "height": 0
        },
        "id": "PllIGASlViKS",
        "outputId": "27a5045b-0d51-4fd4-bd5e-b4254b940e94"
      },
      "execution_count": 24,
      "outputs": [
        {
          "output_type": "stream",
          "name": "stdout",
          "text": [
            "Cantidad promedio de productos vendidos:  9.57\n"
          ]
        }
      ]
    },
    {
      "cell_type": "markdown",
      "source": [
        "Producto más vendido"
      ],
      "metadata": {
        "id": "U_Ni_2QabAzE"
      }
    },
    {
      "cell_type": "code",
      "source": [
        "producto_mas_vendido = ventas.groupby(\"Producto\")[\"Cantidad\"].sum().idxmax()\n",
        "cantidad_total = ventas.groupby(\"Producto\")[\"Cantidad\"].sum().max()\n",
        "\n",
        "print(\"Prodcto mas vendido: \", producto_mas_vendido)\n",
        "print(\"Cantidad total venida:\", cantidad_total)\n"
      ],
      "metadata": {
        "colab": {
          "base_uri": "https://localhost:8080/",
          "height": 0
        },
        "id": "dCFiY81paEHx",
        "outputId": "d083a077-a0dc-477f-ba50-9e4f3afdbf52"
      },
      "execution_count": 30,
      "outputs": [
        {
          "output_type": "stream",
          "name": "stdout",
          "text": [
            "Prodcto mas vendido:  Producto B\n",
            "Cantidad total venida: 371\n"
          ]
        }
      ]
    },
    {
      "cell_type": "markdown",
      "source": [
        "Precio promedio para cada producto"
      ],
      "metadata": {
        "id": "eFEnLOdLf4hW"
      }
    },
    {
      "cell_type": "code",
      "source": [
        "prom_precios = ventas.groupby(\"Producto\")[\"Precio\"].mean()\n",
        "print(\"Precio promedio para cada producto: \", prom_precios)"
      ],
      "metadata": {
        "colab": {
          "base_uri": "https://localhost:8080/",
          "height": 0
        },
        "id": "w7PPgweLdj2g",
        "outputId": "7be0388b-b1d6-4dee-d166-151616380e73"
      },
      "execution_count": 31,
      "outputs": [
        {
          "output_type": "stream",
          "name": "stdout",
          "text": [
            "Precio promedio para cada producto:  Producto\n",
            "Producto A    27.840000\n",
            "Producto B    29.250857\n",
            "Producto C    29.892963\n",
            "Name: Precio, dtype: float64\n"
          ]
        }
      ]
    }
  ]
}