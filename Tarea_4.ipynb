{
  "nbformat": 4,
  "nbformat_minor": 0,
  "metadata": {
    "colab": {
      "provenance": [],
      "authorship_tag": "ABX9TyOQJtUUYlMnwHuGTjv+AXil",
      "include_colab_link": true
    },
    "kernelspec": {
      "name": "python3",
      "display_name": "Python 3"
    },
    "language_info": {
      "name": "python"
    }
  },
  "cells": [
    {
      "cell_type": "markdown",
      "metadata": {
        "id": "view-in-github",
        "colab_type": "text"
      },
      "source": [
        "<a href=\"https://colab.research.google.com/github/GuilleLD/Tarea-ibero/blob/main/Tarea_4.ipynb\" target=\"_parent\"><img src=\"https://colab.research.google.com/assets/colab-badge.svg\" alt=\"Open In Colab\"/></a>"
      ]
    },
    {
      "cell_type": "markdown",
      "source": [
        "Crear invetario de productos, que permita agregar, buscar, actualizar cantidades y eliminar"
      ],
      "metadata": {
        "id": "BG5HNN2aDWi8"
      }
    },
    {
      "cell_type": "markdown",
      "source": [
        "Es una tienda de abarrotes"
      ],
      "metadata": {
        "id": "Izu-ThMKEC2i"
      }
    },
    {
      "cell_type": "code",
      "execution_count": 45,
      "metadata": {
        "colab": {
          "base_uri": "https://localhost:8080/"
        },
        "id": "y4xY4s5AB5QY",
        "outputId": "92528acc-3e77-44db-884d-d36db5e860e5"
      },
      "outputs": [
        {
          "output_type": "stream",
          "name": "stdout",
          "text": [
            "El invetario actual de la tienda es  {'arroz': 10, 'leche': 15, 'huevos': 30, 'fideos': 28}\n",
            "Agregar un nuevo producto: galletas\n",
            "Cuanto quieres agregar: 40\n",
            "El invetario actual de la tienda es  {'arroz': 10, 'leche': 15, 'huevos': 30, 'fideos': 28, 'galletas': 40}\n",
            "Que producto buscas: leche\n",
            "15\n",
            "El invetario actual de la tienda es  {'arroz': 10, 'leche': 15, 'huevos': 30, 'fideos': 28, 'galletas': 40}\n",
            "A que producto quieres cambiarle la cantidad: huevos\n",
            "Cual es el nuevo valor: 90\n",
            "La cantidad del  huevos es 90\n",
            "El invetario actual de la tienda es  {'arroz': 10, 'leche': 15, 'huevos': 90, 'fideos': 28, 'galletas': 40}\n",
            "Que producto deseas eliminar: fideos\n",
            "Se elimino el producto:  fideos\n",
            "El invetario actual de la tienda es  {'arroz': 10, 'leche': 15, 'huevos': 90, 'galletas': 40}\n"
          ]
        }
      ],
      "source": [
        "inventario = dict()\n",
        "inventario[\"arroz\"] = 10\n",
        "inventario[\"leche\"] = 15\n",
        "inventario[\"huevos\"] = 30\n",
        "inventario[\"fideos\"] = 28\n",
        "\n",
        "print(\"El invetario actual de la tienda es \", inventario)\n",
        "\n",
        "agregar_producto = input(\"Agregar un nuevo producto: \")\n",
        "cantidad_producto = int(input(\"Cuanto quieres agregar: \"))\n",
        "\n",
        "if agregar_producto not in inventario:\n",
        "  inventario[agregar_producto] = cantidad_producto\n",
        "\n",
        "else:\n",
        "  inventario[agregar_producto] += cantidad_producto\n",
        "\n",
        "print(\"El invetario actual de la tienda es \", inventario)\n",
        "\n",
        "buscar_producto = input(\"Que producto buscas: \")\n",
        "\n",
        "print(inventario.get(buscar_producto, \"No se encuentra\"))\n",
        "\n",
        "print(\"El invetario actual de la tienda es \", inventario)\n",
        "\n",
        "actualizar_cantidad = input(\"A que producto quieres cambiarle la cantidad: \")\n",
        "cantidad =int(input(\"Cual es el nuevo valor: \"))\n",
        "\n",
        "inventario[actualizar_cantidad] = cantidad\n",
        "\n",
        "print(\"La cantidad del \", actualizar_cantidad, \"es\", cantidad)\n",
        "print(\"El invetario actual de la tienda es \", inventario)\n",
        "\n",
        "eliminar_producto = input(\"Que producto deseas eliminar: \")\n",
        "\n",
        "if eliminar_producto in inventario:\n",
        "  del inventario[eliminar_producto]\n",
        "  print(\"Se elimino el producto: \", eliminar_producto)\n",
        "\n",
        "else:\n",
        "  print(\"No se encontro el producto: \", eliminar_producto)\n",
        "\n",
        "print(\"El invetario actual de la tienda es \", inventario)"
      ]
    },
    {
      "cell_type": "code",
      "source": [
        "\n"
      ],
      "metadata": {
        "id": "zxwRGc2Znthp"
      },
      "execution_count": null,
      "outputs": []
    }
  ]
}