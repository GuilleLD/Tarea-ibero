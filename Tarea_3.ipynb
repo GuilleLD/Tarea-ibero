{
  "nbformat": 4,
  "nbformat_minor": 0,
  "metadata": {
    "colab": {
      "provenance": [],
      "authorship_tag": "ABX9TyMvPg7RSUEEHCKYSI5Lheu5",
      "include_colab_link": true
    },
    "kernelspec": {
      "name": "python3",
      "display_name": "Python 3"
    },
    "language_info": {
      "name": "python"
    }
  },
  "cells": [
    {
      "cell_type": "markdown",
      "metadata": {
        "id": "view-in-github",
        "colab_type": "text"
      },
      "source": [
        "<a href=\"https://colab.research.google.com/github/GuilleLD/Tarea-ibero/blob/main/Tarea_3.ipynb\" target=\"_parent\"><img src=\"https://colab.research.google.com/assets/colab-badge.svg\" alt=\"Open In Colab\"/></a>"
      ]
    },
    {
      "cell_type": "markdown",
      "source": [
        "Promedio de la serie , devolver el menor número entrado, devolver el mayor numero entrado y hacer el cambio si corresponde"
      ],
      "metadata": {
        "id": "1aGg7W6y4VpS"
      }
    },
    {
      "cell_type": "code",
      "source": [
        "nums = input(\"Dime cuántos números quieres promediar: \")\n",
        "nums = int(nums)\n",
        "sum = 0\n",
        "min_num = float('inf')\n",
        "max_num = float('-inf')\n",
        "\n",
        "for x in range(nums):\n",
        "    numero = input(\"Dame el número \" + str(x + 1) + \" a promediar: \")\n",
        "    numero = int(numero)\n",
        "    sum = sum + numero\n",
        "\n",
        "    if numero < min_num:\n",
        "        min_num = numero\n",
        "\n",
        "    elif numero > max_num:\n",
        "        max_num = numero\n",
        "\n",
        "prom = sum / nums\n",
        "print(\"El promedio es de\", prom)\n",
        "print(\"El menor número es:\", min_num)\n",
        "print(\"El mayor número es:\", max_num)\n",
        "\n",
        "nuevo_numero = input(\"Agrega un nuevo número: \")\n",
        "nuevo_numero = int(nuevo_numero)\n",
        "\n",
        "if nuevo_numero < min_num:\n",
        "  min_num = nuevo_numero\n",
        "\n",
        "elif nuevo_numero > max_num:\n",
        "  max_num = nuevo_numero\n",
        "\n",
        "print(\"El menor numero es:\", min_num)\n",
        "print(\"El mayor numero es:\", max_num)"
      ],
      "metadata": {
        "colab": {
          "base_uri": "https://localhost:8080/"
        },
        "id": "yAT4gaQ44_FV",
        "outputId": "60bf2d09-d9d0-4b93-e2ca-90899642266a"
      },
      "execution_count": null,
      "outputs": [
        {
          "output_type": "stream",
          "name": "stdout",
          "text": [
            "Dime cuántos números quieres promediar: 3\n",
            "Dame el número 1 a promediar: 20\n",
            "Dame el número 2 a promediar: 21\n",
            "Dame el número 3 a promediar: 25\n",
            "El promedio es de 22.0\n",
            "El menor número es: 20\n",
            "El mayor número es: 25\n",
            "Agrega un nuevo número: 29\n",
            "El menor numero es: 20\n",
            "El mayor numero es: 29\n"
          ]
        }
      ]
    },
    {
      "cell_type": "code",
      "source": [],
      "metadata": {
        "id": "l06qthSF7sQp"
      },
      "execution_count": null,
      "outputs": []
    }
  ]
}