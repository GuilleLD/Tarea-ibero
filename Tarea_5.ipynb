{
  "nbformat": 4,
  "nbformat_minor": 0,
  "metadata": {
    "colab": {
      "provenance": [],
      "authorship_tag": "ABX9TyNtyf6YNoNgXDWaaHs8dCp8",
      "include_colab_link": true
    },
    "kernelspec": {
      "name": "python3",
      "display_name": "Python 3"
    },
    "language_info": {
      "name": "python"
    }
  },
  "cells": [
    {
      "cell_type": "markdown",
      "metadata": {
        "id": "view-in-github",
        "colab_type": "text"
      },
      "source": [
        "<a href=\"https://colab.research.google.com/github/GuilleLD/Tarea-ibero/blob/main/Tarea_5.ipynb\" target=\"_parent\"><img src=\"https://colab.research.google.com/assets/colab-badge.svg\" alt=\"Open In Colab\"/></a>"
      ]
    },
    {
      "cell_type": "code",
      "execution_count": null,
      "metadata": {
        "colab": {
          "base_uri": "https://localhost:8080/"
        },
        "id": "js0YW1aLUW9Q",
        "outputId": "e4b2fd0e-f8b5-4954-805e-a4390eb66d6b"
      },
      "outputs": [
        {
          "output_type": "stream",
          "name": "stdout",
          "text": [
            "Requirement already satisfied: numpy in /usr/local/lib/python3.10/dist-packages (1.23.5)\n"
          ]
        }
      ],
      "source": [
        "!pip install numpy"
      ]
    },
    {
      "cell_type": "markdown",
      "source": [
        "Cargar los datos de altura de las olas"
      ],
      "metadata": {
        "id": "WhS5FqZdZuWn"
      }
    },
    {
      "cell_type": "code",
      "source": [
        "import numpy as np\n",
        "from google.colab import files\n",
        "uploaded = files.upload()\n",
        "\n",
        "print(uploaded)"
      ],
      "metadata": {
        "id": "qVLw1_X_X3i2",
        "colab": {
          "base_uri": "https://localhost:8080/",
          "height": 109
        },
        "outputId": "eaf13734-30e0-47a4-efc1-87316b222c61"
      },
      "execution_count": null,
      "outputs": [
        {
          "output_type": "display_data",
          "data": {
            "text/plain": [
              "<IPython.core.display.HTML object>"
            ],
            "text/html": [
              "\n",
              "     <input type=\"file\" id=\"files-9a7090d1-1637-41c7-beba-8c6704f2a927\" name=\"files[]\" multiple disabled\n",
              "        style=\"border:none\" />\n",
              "     <output id=\"result-9a7090d1-1637-41c7-beba-8c6704f2a927\">\n",
              "      Upload widget is only available when the cell has been executed in the\n",
              "      current browser session. Please rerun this cell to enable.\n",
              "      </output>\n",
              "      <script>// Copyright 2017 Google LLC\n",
              "//\n",
              "// Licensed under the Apache License, Version 2.0 (the \"License\");\n",
              "// you may not use this file except in compliance with the License.\n",
              "// You may obtain a copy of the License at\n",
              "//\n",
              "//      http://www.apache.org/licenses/LICENSE-2.0\n",
              "//\n",
              "// Unless required by applicable law or agreed to in writing, software\n",
              "// distributed under the License is distributed on an \"AS IS\" BASIS,\n",
              "// WITHOUT WARRANTIES OR CONDITIONS OF ANY KIND, either express or implied.\n",
              "// See the License for the specific language governing permissions and\n",
              "// limitations under the License.\n",
              "\n",
              "/**\n",
              " * @fileoverview Helpers for google.colab Python module.\n",
              " */\n",
              "(function(scope) {\n",
              "function span(text, styleAttributes = {}) {\n",
              "  const element = document.createElement('span');\n",
              "  element.textContent = text;\n",
              "  for (const key of Object.keys(styleAttributes)) {\n",
              "    element.style[key] = styleAttributes[key];\n",
              "  }\n",
              "  return element;\n",
              "}\n",
              "\n",
              "// Max number of bytes which will be uploaded at a time.\n",
              "const MAX_PAYLOAD_SIZE = 100 * 1024;\n",
              "\n",
              "function _uploadFiles(inputId, outputId) {\n",
              "  const steps = uploadFilesStep(inputId, outputId);\n",
              "  const outputElement = document.getElementById(outputId);\n",
              "  // Cache steps on the outputElement to make it available for the next call\n",
              "  // to uploadFilesContinue from Python.\n",
              "  outputElement.steps = steps;\n",
              "\n",
              "  return _uploadFilesContinue(outputId);\n",
              "}\n",
              "\n",
              "// This is roughly an async generator (not supported in the browser yet),\n",
              "// where there are multiple asynchronous steps and the Python side is going\n",
              "// to poll for completion of each step.\n",
              "// This uses a Promise to block the python side on completion of each step,\n",
              "// then passes the result of the previous step as the input to the next step.\n",
              "function _uploadFilesContinue(outputId) {\n",
              "  const outputElement = document.getElementById(outputId);\n",
              "  const steps = outputElement.steps;\n",
              "\n",
              "  const next = steps.next(outputElement.lastPromiseValue);\n",
              "  return Promise.resolve(next.value.promise).then((value) => {\n",
              "    // Cache the last promise value to make it available to the next\n",
              "    // step of the generator.\n",
              "    outputElement.lastPromiseValue = value;\n",
              "    return next.value.response;\n",
              "  });\n",
              "}\n",
              "\n",
              "/**\n",
              " * Generator function which is called between each async step of the upload\n",
              " * process.\n",
              " * @param {string} inputId Element ID of the input file picker element.\n",
              " * @param {string} outputId Element ID of the output display.\n",
              " * @return {!Iterable<!Object>} Iterable of next steps.\n",
              " */\n",
              "function* uploadFilesStep(inputId, outputId) {\n",
              "  const inputElement = document.getElementById(inputId);\n",
              "  inputElement.disabled = false;\n",
              "\n",
              "  const outputElement = document.getElementById(outputId);\n",
              "  outputElement.innerHTML = '';\n",
              "\n",
              "  const pickedPromise = new Promise((resolve) => {\n",
              "    inputElement.addEventListener('change', (e) => {\n",
              "      resolve(e.target.files);\n",
              "    });\n",
              "  });\n",
              "\n",
              "  const cancel = document.createElement('button');\n",
              "  inputElement.parentElement.appendChild(cancel);\n",
              "  cancel.textContent = 'Cancel upload';\n",
              "  const cancelPromise = new Promise((resolve) => {\n",
              "    cancel.onclick = () => {\n",
              "      resolve(null);\n",
              "    };\n",
              "  });\n",
              "\n",
              "  // Wait for the user to pick the files.\n",
              "  const files = yield {\n",
              "    promise: Promise.race([pickedPromise, cancelPromise]),\n",
              "    response: {\n",
              "      action: 'starting',\n",
              "    }\n",
              "  };\n",
              "\n",
              "  cancel.remove();\n",
              "\n",
              "  // Disable the input element since further picks are not allowed.\n",
              "  inputElement.disabled = true;\n",
              "\n",
              "  if (!files) {\n",
              "    return {\n",
              "      response: {\n",
              "        action: 'complete',\n",
              "      }\n",
              "    };\n",
              "  }\n",
              "\n",
              "  for (const file of files) {\n",
              "    const li = document.createElement('li');\n",
              "    li.append(span(file.name, {fontWeight: 'bold'}));\n",
              "    li.append(span(\n",
              "        `(${file.type || 'n/a'}) - ${file.size} bytes, ` +\n",
              "        `last modified: ${\n",
              "            file.lastModifiedDate ? file.lastModifiedDate.toLocaleDateString() :\n",
              "                                    'n/a'} - `));\n",
              "    const percent = span('0% done');\n",
              "    li.appendChild(percent);\n",
              "\n",
              "    outputElement.appendChild(li);\n",
              "\n",
              "    const fileDataPromise = new Promise((resolve) => {\n",
              "      const reader = new FileReader();\n",
              "      reader.onload = (e) => {\n",
              "        resolve(e.target.result);\n",
              "      };\n",
              "      reader.readAsArrayBuffer(file);\n",
              "    });\n",
              "    // Wait for the data to be ready.\n",
              "    let fileData = yield {\n",
              "      promise: fileDataPromise,\n",
              "      response: {\n",
              "        action: 'continue',\n",
              "      }\n",
              "    };\n",
              "\n",
              "    // Use a chunked sending to avoid message size limits. See b/62115660.\n",
              "    let position = 0;\n",
              "    do {\n",
              "      const length = Math.min(fileData.byteLength - position, MAX_PAYLOAD_SIZE);\n",
              "      const chunk = new Uint8Array(fileData, position, length);\n",
              "      position += length;\n",
              "\n",
              "      const base64 = btoa(String.fromCharCode.apply(null, chunk));\n",
              "      yield {\n",
              "        response: {\n",
              "          action: 'append',\n",
              "          file: file.name,\n",
              "          data: base64,\n",
              "        },\n",
              "      };\n",
              "\n",
              "      let percentDone = fileData.byteLength === 0 ?\n",
              "          100 :\n",
              "          Math.round((position / fileData.byteLength) * 100);\n",
              "      percent.textContent = `${percentDone}% done`;\n",
              "\n",
              "    } while (position < fileData.byteLength);\n",
              "  }\n",
              "\n",
              "  // All done.\n",
              "  yield {\n",
              "    response: {\n",
              "      action: 'complete',\n",
              "    }\n",
              "  };\n",
              "}\n",
              "\n",
              "scope.google = scope.google || {};\n",
              "scope.google.colab = scope.google.colab || {};\n",
              "scope.google.colab._files = {\n",
              "  _uploadFiles,\n",
              "  _uploadFilesContinue,\n",
              "};\n",
              "})(self);\n",
              "</script> "
            ]
          },
          "metadata": {}
        },
        {
          "output_type": "stream",
          "name": "stdout",
          "text": [
            "Saving datos_olas.csv to datos_olas.csv\n",
            "{'datos_olas.csv': b'puntos,dia,altura\\r\\nA,2022-11-25,4.878464067401625\\r\\nA,2023-03-03,0.3210021110900163\\r\\nD,2022-09-22,9.665051956287837\\r\\nD,2023-05-22,2.0680294339172933\\r\\nE,2022-11-09,8.647432687107191\\r\\nD,2023-03-27,1.0689467329471025\\r\\nD,2023-05-18,5.772233348630593\\r\\nA,2022-10-10,5.438164968887866\\r\\nB,2023-05-08,3.3816414491719025\\r\\nE,2023-01-31,8.762145016520346\\r\\nD,2023-04-27,6.960884071578922\\r\\nD,2022-09-28,7.880826626274074\\r\\nC,2023-03-10,6.33768938022759\\r\\nE,2023-05-25,3.5855169916685914\\r\\nB,2023-02-24,8.04451407658844\\r\\nA,2023-03-18,9.15816323638438\\r\\nA,2023-01-24,2.130396710979121\\r\\nB,2023-05-01,7.619685271566826\\r\\nD,2022-12-04,5.008194672538981\\r\\nC,2023-03-11,6.376106329916516\\r\\nD,2023-04-27,8.98816589845325\\r\\nC,2022-12-06,1.7013787830619964\\r\\nA,2023-04-03,1.9664935094620795\\r\\nA,2022-07-15,4.674045294698473\\r\\nA,2022-11-10,4.52179453977244\\r\\nC,2022-12-26,0.361185236316639\\r\\nA,2023-02-23,9.301030560065797\\r\\nE,2022-08-19,0.8744858006687195\\r\\nE,2023-06-02,3.8560811284006213\\r\\nA,2022-09-03,9.341728453268308\\r\\nA,2022-08-09,2.941613293065636\\r\\nD,2023-02-05,4.1057206235207495\\r\\nA,2023-04-13,2.387983633949214\\r\\nA,2022-07-14,1.5069224745129561\\r\\nB,2023-01-24,3.7243509692071033\\r\\nD,2022-09-05,0.8968211113788027\\r\\nE,2022-09-07,7.245125156792933\\r\\nD,2022-12-31,9.823272804812238\\r\\nD,2022-12-28,2.924172574881524\\r\\nA,2023-02-26,1.2631885231497164\\r\\nC,2023-01-11,6.710309844196346\\r\\nD,2022-12-29,0.15471540883903234\\r\\nA,2022-08-06,0.34886137404405493\\r\\nC,2023-05-10,4.0401056204282675\\r\\nC,2022-12-07,9.977293486806257\\r\\nC,2023-01-16,3.2675088405430355\\r\\nA,2022-09-18,1.6516645903680405\\r\\nD,2023-06-17,8.273038002760089\\r\\nC,2023-01-14,1.9243376164254933\\r\\nC,2023-02-12,8.630804050114468\\r\\nC,2023-05-05,6.375910220044524\\r\\nA,2022-08-03,8.283764541126654\\r\\nC,2023-04-19,2.536338693405522\\r\\nB,2023-05-07,7.129113705087359\\r\\nB,2023-06-11,1.78741110484666\\r\\nA,2022-08-22,0.5867390238986891\\r\\nC,2023-04-12,2.5980514198876015\\r\\nB,2022-09-09,4.0295513099384115\\r\\nE,2022-08-03,5.98578425140958\\r\\nD,2022-12-19,4.027301104221154\\r\\nC,2023-05-24,8.644414210686428\\r\\nD,2022-08-15,9.874574551710007\\r\\nA,2023-02-10,4.341683129281439\\r\\nA,2022-11-29,1.810437606736518\\r\\nE,2023-03-15,9.412948963979074\\r\\nC,2022-10-26,0.3355721166046888\\r\\nA,2023-03-17,7.9642810910615\\r\\nE,2023-04-22,5.295679589766564\\r\\nB,2023-02-15,6.030241264558558\\r\\nC,2023-06-21,9.418160434694062\\r\\nC,2022-10-18,3.196821524173018\\r\\nD,2023-01-06,1.4266796082147604\\r\\nC,2022-12-12,7.022146687374446\\r\\nD,2022-09-02,9.33762326848273\\r\\nB,2023-06-14,3.678915743165944\\r\\nA,2023-06-29,2.955198952466762\\r\\nD,2023-06-17,0.039413843205671206\\r\\nA,2022-10-17,7.652942241377701\\r\\nA,2023-06-17,5.0264220487452835\\r\\nE,2023-05-04,8.728411573442415\\r\\nD,2023-04-27,9.643993820112334\\r\\nB,2022-11-04,3.323701306498017\\r\\nA,2022-09-06,7.400637909448729\\r\\nD,2023-01-14,1.1233927366926977\\r\\nE,2023-05-19,9.14553083796824\\r\\nA,2022-10-21,6.89500539494965\\r\\nE,2023-06-20,0.48677187990470383\\r\\nC,2023-03-20,9.00809713446966\\r\\nD,2023-06-05,7.5067112364698545\\r\\nE,2022-07-24,6.889053503509395\\r\\nA,2022-10-19,5.796898139985943\\r\\nD,2023-04-04,2.360683356564749\\r\\nC,2022-08-07,7.472817838184424\\r\\nB,2022-10-21,3.1705708177868654\\r\\nE,2023-05-10,6.323828011905608\\r\\nC,2022-09-23,0.29182094851830653\\r\\nA,2023-04-01,9.301530195271667\\r\\nC,2022-11-24,1.18556257255385\\r\\nD,2023-03-19,8.378766981477224\\r\\nA,2022-07-26,4.552429570593359\\r\\n'}\n"
          ]
        }
      ]
    },
    {
      "cell_type": "markdown",
      "source": [
        "Altura promedio en cada punto del parque durante todos los dias"
      ],
      "metadata": {
        "id": "qFlXNAWVrYd4"
      }
    },
    {
      "cell_type": "code",
      "source": [
        "data_str = uploaded['datos_olas.csv'].decode(\"utf-8\")\n",
        "data_list = [line.split(\",\") for line in data_str.split(\"\\n\") if line]\n",
        "data_list = data_list[1:]\n",
        "\n",
        "data = np.array(data_list)\n",
        "\n",
        "alturas = data[:, 2].astype(float)\n",
        "puntos = data[:,0]\n",
        "\n",
        "puntos = np.char.strip(puntos)\n",
        "\n",
        "puntos_unicos =np.unique(puntos)\n",
        "\n",
        "promedio_por_punto = {}\n",
        "\n",
        "for punto in puntos_unicos:\n",
        "  indices= (puntos == punto)\n",
        "  promedio = np.mean(alturas[indices])\n",
        "  promedio_por_punto[punto]= promedio\n",
        "\n",
        "for punto, promedio in promedio_por_punto.items():\n",
        "    print(f'Punto {punto}: Promedio de altura = {promedio:.2f}')\n"
      ],
      "metadata": {
        "colab": {
          "base_uri": "https://localhost:8080/"
        },
        "id": "T7p_ESuxgIPi",
        "outputId": "cebf6122-aecd-4062-d6fb-d2c6f2a8febe"
      },
      "execution_count": null,
      "outputs": [
        {
          "output_type": "stream",
          "name": "stdout",
          "text": [
            "Punto A: Promedio de altura = 4.63\n",
            "Punto B: Promedio de altura = 4.72\n",
            "Punto C: Promedio de altura = 4.88\n",
            "Punto D: Promedio de altura = 5.30\n",
            "Punto E: Promedio de altura = 6.09\n"
          ]
        }
      ]
    },
    {
      "cell_type": "markdown",
      "source": [
        "Altura maxima en cada punto del parque durante todos los dias"
      ],
      "metadata": {
        "id": "p8TavbNOJmal"
      }
    },
    {
      "cell_type": "code",
      "source": [
        "altura_maxima = {}\n",
        "\n",
        "for punto in puntos_unicos:\n",
        "    indices = (puntos == punto)\n",
        "    altura_max =np.max(alturas[indices])\n",
        "    altura_maxima[punto] = altura_max\n",
        "\n",
        "for punto, altura_max in altura_maxima.items():\n",
        "    print(f'Punto {punto}: Altura máxima de olas = {altura_max:.2f}')"
      ],
      "metadata": {
        "colab": {
          "base_uri": "https://localhost:8080/"
        },
        "id": "3Kd1DQdkRksO",
        "outputId": "00271070-33c0-4aa2-ccd5-ee2463a987f5"
      },
      "execution_count": null,
      "outputs": [
        {
          "output_type": "stream",
          "name": "stdout",
          "text": [
            "Punto A: Altura máxima de olas = 9.34\n",
            "Punto B: Altura máxima de olas = 8.04\n",
            "Punto C: Altura máxima de olas = 9.98\n",
            "Punto D: Altura máxima de olas = 9.87\n",
            "Punto E: Altura máxima de olas = 9.41\n"
          ]
        }
      ]
    },
    {
      "cell_type": "markdown",
      "source": [
        "Desviación estandar de la altura de las olas en cada punto del parque durante todos los dias"
      ],
      "metadata": {
        "id": "0mlKF_YtbAc1"
      }
    },
    {
      "cell_type": "code",
      "source": [
        "desv_por_punto = {}\n",
        "\n",
        "for punto in puntos_unicos:\n",
        "    indices = (puntos == punto)\n",
        "    alturas_punto = alturas[indices]\n",
        "    desv = np.std(alturas_punto)\n",
        "    desv_por_punto[punto] =desv\n",
        "\n",
        "for punto, desv in desv_por_punto.items():\n",
        "    print(f'Punto {punto}: Desviación estándar de alturas = {desv:.2f}')\n"
      ],
      "metadata": {
        "colab": {
          "base_uri": "https://localhost:8080/"
        },
        "id": "EHBfT4gXN8q2",
        "outputId": "09399564-8b15-49a8-bcb3-601dcfb7e418"
      },
      "execution_count": null,
      "outputs": [
        {
          "output_type": "stream",
          "name": "stdout",
          "text": [
            "Punto A: Desviación estándar de alturas = 2.94\n",
            "Punto B: Desviación estándar de alturas = 2.01\n",
            "Punto C: Desviación estándar de alturas = 3.19\n",
            "Punto D: Desviación estándar de alturas = 3.50\n",
            "Punto E: Desviación estándar de alturas = 2.85\n"
          ]
        }
      ]
    },
    {
      "cell_type": "markdown",
      "source": [
        "Punto del parque acuático con la altura promedio más alta"
      ],
      "metadata": {
        "id": "rsSqPNr43BHN"
      }
    },
    {
      "cell_type": "code",
      "source": [
        "punto_altura_maxima= max(promedio_por_punto, key =promedio_por_punto.get)\n",
        "altura_promedio_maxima =promedio_por_punto [punto_altura_maxima]\n",
        "\n",
        "print(f'Punto con la altura promedio más alta: {punto_altura_maxima}')\n",
        "print(f'Altura promedio correspondiente: {altura_promedio_maxima:.2f}')"
      ],
      "metadata": {
        "colab": {
          "base_uri": "https://localhost:8080/"
        },
        "id": "NvK3CmTd3Ape",
        "outputId": "2123ca5c-ba17-471a-fff4-243b876f0001"
      },
      "execution_count": null,
      "outputs": [
        {
          "output_type": "stream",
          "name": "stdout",
          "text": [
            "Punto con la altura promedio más alta: E\n",
            "Altura promedio correspondiente: 6.09\n"
          ]
        }
      ]
    },
    {
      "cell_type": "code",
      "source": [],
      "metadata": {
        "id": "SYMT77k8s8So"
      },
      "execution_count": null,
      "outputs": []
    }
  ]
}